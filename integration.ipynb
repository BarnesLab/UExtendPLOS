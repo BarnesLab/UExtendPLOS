{
 "cells": [
  {
   "cell_type": "code",
   "execution_count": 3,
   "id": "038d8f03-dd93-4e2d-8111-8666148b576a",
   "metadata": {},
   "outputs": [],
   "source": [
    "from scipy.integrate import cumtrapz\n",
    "from scipy.signal import butter, sosfilt, filtfilt, sosfiltfilt, welch\n",
    "import numpy as np\n",
    "import pandas as pd"
   ]
  },
  {
   "cell_type": "code",
   "execution_count": null,
   "id": "6d646b3f-6b56-4b85-8161-6af4703dae89",
   "metadata": {},
   "outputs": [],
   "source": [
    "# Function to design a Butterworth band-pass filter\n",
    "def butter_bandpass(lowcut, highcut, fs, order=6):\n",
    "    nyq = 0.5 * fs\n",
    "    low = lowcut / nyq\n",
    "    high = highcut / nyq\n",
    "    sos = butter(order, [low, high], analog=False, btype='band', output='sos')\n",
    "    return sos\n",
    "\n",
    "# Function to apply the Butterworth filter\n",
    "def butter_bandpass_filter(data, lowcut, highcut, fs, order=6):\n",
    "    sos = butter_bandpass(lowcut, highcut, fs, order=order)\n",
    "    y = sosfiltfilt(sos, data)\n",
    "    return y\n",
    "\n",
    "\n",
    "def integrate_velocity(velocity):\n",
    "    # Cumtrapz returns 1 sample lesser, so 0 is added in front\n",
    "    dist = np.insert(cumtrapz(velocity, dx=1/sampling_freq, axis=0), 0, 0)\n",
    "    \n",
    "    if len(velocity) > 39:    \n",
    "        # filtering to reduce integration drift\n",
    "        filter_dist = butter_bandpass_filter(dist, lowcut=0.1, highcut=14.999, fs=30, order=6)\n",
    "    else:\n",
    "        filter_dist = dist\n",
    "\n",
    "    return filter_dist"
   ]
  }
 ],
 "metadata": {
  "kernelspec": {
   "display_name": "Python 3 (ipykernel)",
   "language": "python",
   "name": "python3"
  },
  "language_info": {
   "codemirror_mode": {
    "name": "ipython",
    "version": 3
   },
   "file_extension": ".py",
   "mimetype": "text/x-python",
   "name": "python",
   "nbconvert_exporter": "python",
   "pygments_lexer": "ipython3",
   "version": "3.11.7"
  }
 },
 "nbformat": 4,
 "nbformat_minor": 5
}
