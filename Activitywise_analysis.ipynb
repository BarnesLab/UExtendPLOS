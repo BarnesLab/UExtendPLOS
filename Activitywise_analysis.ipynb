{
 "cells": [
  {
   "cell_type": "code",
   "execution_count": null,
   "id": "d2e4228b",
   "metadata": {},
   "outputs": [],
   "source": [
    "import numpy as np\n",
    "import pandas as pd\n",
    "import scipy.signal\n",
    "from scipy.stats import logistic\n",
    "import matplotlib.pyplot as plt\n",
    "from datetime import timedelta\n",
    "from scipy.integrate import simpson\n",
    "from scipy import stats\n",
    "import statsmodels.api as sm\n",
    "from statsmodels.stats.multicomp import pairwise_tukeyhsd\n",
    "from fdasrsf.regression import elastic_regression\n",
    "from fdasrsf.utility_functions import elastic_distance\n",
    "import fdasrsf as fs\n",
    "import seaborn as sns\n",
    "import tsfel\n",
    "import plotly.express as px\n",
    "import plotly.graph_objects as go\n",
    "import pingouin as pg\n",
    "\n",
    "import warnings\n",
    "warnings.filterwarnings('ignore')"
   ]
  },
  {
   "cell_type": "code",
   "execution_count": null,
   "id": "53ab8ba4-3e3a-48c2-a2bf-cbaa722a91db",
   "metadata": {},
   "outputs": [],
   "source": [
    "!pip install fdasrsf"
   ]
  },
  {
   "cell_type": "code",
   "execution_count": null,
   "id": "828e9ec4",
   "metadata": {},
   "outputs": [],
   "source": [
    "%%javascript\n",
    "IPython.OutputArea.prototype._should_scroll = function(lines) {\n",
    "    return false;\n",
    "}"
   ]
  },
  {
   "cell_type": "markdown",
   "id": "0010c783",
   "metadata": {},
   "source": [
    "## Data loading"
   ]
  },
  {
   "cell_type": "code",
   "execution_count": null,
   "id": "88f4f963",
   "metadata": {},
   "outputs": [],
   "source": [
    "# baseline_df = pd.read_excel('Combined_DATA_11.12.21s.xlsx', engine='openpyxl')\n",
    "baseline_df = pd.read_csv('final_clinical_df.csv')\n",
    "baseline_df = baseline_df.drop(columns=['Dom','Gender'])#.astype('float')\n",
    "\n",
    "# ys = np.loadtxt('ys_s.txt')\n",
    "# pids = np.loadtxt('pids_s.txt')\n",
    "# visits = np.loadtxt('visits_s.txt', dtype=str)\n",
    "\n",
    "ysp = np.load('ys_curl_new.npy')[:,:,0]\n",
    "pidsp = np.loadtxt('pids_curl_new.txt')\n",
    "visitsp = np.loadtxt('visits_curl_new.txt', dtype=str)\n",
    "\n",
    "# ysp = np.load('all_knock.npy')[:,:,1]\n",
    "# pidsp = np.loadtxt('pids_knock.txt')\n",
    "# visitsp = np.loadtxt('visits_knock.txt', dtype=str)\n",
    "\n",
    "df_processor = pd.DataFrame(ysp)\n",
    "df_processor['pids']=pidsp\n",
    "df_processor['visits']=visitsp\n",
    "\n",
    "baseline_df['Normalized_Dynamometry (N/cm)'] = baseline_df['Avg. Dynamometry (N)'] / baseline_df['Forearm_Length (cm)']\n",
    "baseline_df['Normalized Elbow Torque (Nm/cm)'] = baseline_df['Elbow Torque (Nm)'] / baseline_df['Forearm_Length (cm)']\n",
    "\n",
    "df_processor['visits'] = pd.to_datetime(df_processor['visits'])\n",
    "df_processor['visits'] = df_processor['visits'].apply(lambda x: x.strftime('%Y-%m-%d'))\n",
    "df_processor['visits'] = pd.to_datetime(df_processor['visits'], format = \"%Y-%m-%d\")\n",
    "\n",
    "baseline_df['Sensor Data Date'] = pd.to_datetime(baseline_df['Sensor Data Date'], format = \"%Y-%m-%d\")\n",
    "df_processor = pd.merge(df_processor, baseline_df, left_on=['pids','visits'], right_on=['PID','Sensor Data Date'], how='inner')\n",
    "# df_processor = pd.merge(df_processor, baseline_df, left_on=['pids'], right_on=['PID'], how='inner')\n",
    "\n",
    "# df_processor['visits'] = pd.to_datetime(df_processor['visits'])\n",
    "# baseline_df['Sensor Data Date'] = pd.to_datetime(baseline_df['Sensor Data Date'])\n",
    "\n",
    "# df_processor = pd.merge(df_processor, baseline_df, left_on=['pids','visits'], right_on=['PID','Sensor Data Date'], how='inner')"
   ]
  },
  {
   "cell_type": "code",
   "execution_count": null,
   "id": "ac646cff-9879-4572-b999-18ee5e317a15",
   "metadata": {},
   "outputs": [],
   "source": [
    "# Function to randomly select 1 row from every 2 rows for each group\n",
    "# def select_random_row(group):\n",
    "#     if len(group) > 1:\n",
    "#         return group.sample(n=1, random_state=42)\n",
    "#     return group\n",
    "\n",
    "# # Group by 'pids', then apply the selection function, and reset index\n",
    "# df_processor = df_processor.groupby('pids', group_keys=False).apply(lambda x: x.groupby(np.arange(len(x)) // 2).apply(select_random_row)).reset_index(drop=True)\n",
    "\n",
    "# df_processor['pids']"
   ]
  },
  {
   "cell_type": "markdown",
   "id": "2c37b0d8",
   "metadata": {},
   "source": [
    "## Alignment"
   ]
  },
  {
   "cell_type": "code",
   "execution_count": null,
   "id": "07194505",
   "metadata": {},
   "outputs": [],
   "source": [
    "ys = df_processor.iloc[:,0:400].values\n",
    "\n",
    "time = np.array(range(400)).astype(float)\n",
    "obj = fs.fdawarp(np.transpose(ys), time)\n",
    "\n",
    "\"\"\" Calculate healthy mean\"\"\"\n",
    "obj.srsf_align(parallel=True)"
   ]
  },
  {
   "cell_type": "code",
   "execution_count": null,
   "id": "25702c8c-e9b8-4cb9-bab6-9fa711fcd862",
   "metadata": {},
   "outputs": [],
   "source": [
    "# data = np.load('MPEG7/Xdata.npy',allow_pickle=True)\n",
    "# Xdata = data\n",
    "# curve = Xdata[0,1]\n",
    "# n,M = curve.shape\n",
    "# K = Xdata.shape[1]\n",
    "\n",
    "# n = 2\n",
    "# M = 400\n",
    "# K = ys.shape[0]\n",
    "\n",
    "# beta = np.zeros((n,M,K))\n",
    "# for i in range(0,K):\n",
    "#     beta[0,:,i] = np.arange(0, 400, 1, dtype=int)\n",
    "#     beta[1,:,i] = ys[i, :]"
   ]
  },
  {
   "cell_type": "code",
   "execution_count": null,
   "id": "3bbe1cb4-db74-4c96-a726-abc098a72916",
   "metadata": {},
   "outputs": [],
   "source": [
    "# print(beta.shape, ys.shape)"
   ]
  },
  {
   "cell_type": "code",
   "execution_count": null,
   "id": "7a165002-ae43-4d00-a04b-20438ffb3118",
   "metadata": {},
   "outputs": [],
   "source": [
    "# beta = ys"
   ]
  },
  {
   "cell_type": "code",
   "execution_count": null,
   "id": "c92169ee-199d-47b7-95b9-f9f66f09204d",
   "metadata": {},
   "outputs": [],
   "source": [
    "# for i in range(beta.shape[2]):\n",
    "#     plt.figure()\n",
    "#     plt.plot(beta[0,:,i], beta[1,:,i])\n",
    "#     plt.show()"
   ]
  },
  {
   "cell_type": "code",
   "execution_count": null,
   "id": "1f1ecd3f-8448-420e-a345-08b049119cc4",
   "metadata": {},
   "outputs": [],
   "source": [
    "#obj2 = fs.fdacurve(beta, mode='O', N=M)"
   ]
  },
  {
   "cell_type": "code",
   "execution_count": null,
   "id": "8a276ce7-242f-4a91-8fa5-bf8bdef316d5",
   "metadata": {},
   "outputs": [],
   "source": [
    "#obj2.karcher_mean()"
   ]
  },
  {
   "cell_type": "code",
   "execution_count": null,
   "id": "ec8f7045-f648-4ce5-8a4a-b6492e4ef20c",
   "metadata": {},
   "outputs": [],
   "source": [
    "#obj2.srvf_align(rotation=False)"
   ]
  },
  {
   "cell_type": "code",
   "execution_count": null,
   "id": "52d6b08b-3df0-4c1e-9477-9bfd1f8495f2",
   "metadata": {
    "scrolled": true
   },
   "outputs": [],
   "source": [
    "#obj2.plot()"
   ]
  },
  {
   "cell_type": "code",
   "execution_count": null,
   "id": "5f623877-6127-47d8-86ac-0505ec4404c5",
   "metadata": {},
   "outputs": [],
   "source": [
    "#obj2.karcher_cov()\n",
    "#obj2.shape_pca()"
   ]
  },
  {
   "cell_type": "code",
   "execution_count": null,
   "id": "f6b9292c-c54d-43b4-8ce2-b12a018808aa",
   "metadata": {},
   "outputs": [],
   "source": [
    "#obj2.plot_pca()"
   ]
  },
  {
   "cell_type": "markdown",
   "id": "36a707ea",
   "metadata": {},
   "source": [
    "## FPCA"
   ]
  },
  {
   "cell_type": "code",
   "execution_count": null,
   "id": "83b97cfe",
   "metadata": {},
   "outputs": [],
   "source": [
    "import matplotlib.pyplot as plt\n",
    "plt.figure(figsize=(30, 3))\n",
    "vpca = fs.fdavpca(obj)\n",
    "vpca.calc_fpca(no=3)\n",
    "vpca.plot()\n",
    "\n",
    "vpca_df = pd.DataFrame(vpca.coef, columns=['vpc1', 'vpc2', 'vpc3'])\n",
    "\n",
    "hpca = fs.fdahpca(obj)\n",
    "hpca.calc_fpca(no=3)\n",
    "\n",
    "hpca.plot()\n",
    "\n",
    "hpca_df = pd.DataFrame(hpca.coef, columns=['hpc1', 'hpc2', 'hpc3'])\n",
    "\n",
    "jpca = fs.fdajpca(obj)\n",
    "jpca.calc_fpca(no=3)\n",
    "\n",
    "jpca.plot()\n",
    "\n",
    "jpca_df = pd.DataFrame(jpca.coef, columns=['jpc1', 'jpc2', 'jpc3'])\n",
    "\n",
    "pca_df = pd.concat([hpca_df, vpca_df, jpca_df], axis=1)\n",
    "\n",
    "#pca_df\n",
    "df_pca_analyze = pd.concat([df_processor.iloc[:,401:,], pca_df], axis=1)"
   ]
  },
  {
   "cell_type": "code",
   "execution_count": null,
   "id": "11ebb968",
   "metadata": {},
   "outputs": [],
   "source": [
    "cumm_coef = 100 * (vpca.latent) / sum(vpca.latent)\n",
    "\n",
    "sns.set_style(style='white')\n",
    "fig, axs = plt.subplots(1, 3, figsize=(15, 3))\n",
    "for i, ax in enumerate(axs):\n",
    "    ax.plot(vpca.f_pca[:,2,i], label=r'$\\mu + 1 \\sigma v$', color='tab:red')\n",
    "    ax.plot(vpca.f_pca[:,1,i], label=r'$\\mu$', color='black')\n",
    "    ax.plot(vpca.f_pca[:,0,i], label=r'$\\mu - 1 \\sigma v$', color='tab:blue')\n",
    "    ax.set_title(\"VPC{}, {}%\".format(i+1, round(cumm_coef[i], 0)))\n",
    "    ax.legend()\n",
    "plt.savefig('vertical_eigenfunctions_long.png', dpi=300, bbox_inches='tight')"
   ]
  },
  {
   "cell_type": "code",
   "execution_count": null,
   "id": "05a0cfa8-8cc0-419e-9fff-66f55c21fa7e",
   "metadata": {},
   "outputs": [],
   "source": []
  },
  {
   "cell_type": "code",
   "execution_count": null,
   "id": "f9495d62-8371-4cf6-bbd7-bb62e6bdab1e",
   "metadata": {},
   "outputs": [],
   "source": [
    "df_long = df_pca_analyze.groupby(['PID','Visit #'], as_index=False).agg({'Age':'mean',\n",
    "                                    'Forearm_Length (cm)':'mean',\n",
    "                                    'CSA (cm^2)':'mean',\n",
    "                                    'Avg_Echo':'mean',\n",
    "                                    'Normalized Elbow Torque (Nm/cm)':'mean',\n",
    "                                    'vpc1':'mean',\n",
    "                                    'vpc2':'mean',\n",
    "                                    'vpc3':'mean',\n",
    "                                    'Brooke':'mean',\n",
    "                                    'Cohort':'first',\n",
    "                                    'PID':'first','visits':'first'})\n",
    "\n",
    "#df_long = df_pca_analyze\n",
    "\n",
    "df_long.to_csv('df_long_mean.csv', index=False)"
   ]
  },
  {
   "cell_type": "code",
   "execution_count": null,
   "id": "d1635d6a-7493-4455-b7e6-5886af654c98",
   "metadata": {},
   "outputs": [],
   "source": [
    "df_long"
   ]
  },
  {
   "cell_type": "code",
   "execution_count": null,
   "id": "5bbec9cc-e73d-4059-a56b-a9b0079fefec",
   "metadata": {},
   "outputs": [],
   "source": [
    "# from statannot import add_stat_annotation\n",
    "\n",
    "# feat_cols = ['Normalized Elbow Torque (Nm/cm)','Avg_Echo','vpc1','vpc3']\n",
    "# fig, axs = plt.subplots(1, 4, figsize=(3*len(feat_cols), 4))\n",
    "\n",
    "\n",
    "# for i, feat_col in enumerate(feat_cols):\n",
    "\n",
    "#     pids_df_subset = df_long[[feat_col, 'Cohort']]\n",
    "#     a = sns.boxplot(data=pids_df_subset, x='Cohort', y=feat_col, ax=axs[i])\n",
    "\n",
    "    # add_stat_annotation(a, data=pids_df_subset, x='Cohort', y=feat_col, \n",
    "    #                     box_pairs=[(\"DMD\", \"Healthy\"), (\"DMD\", \"SMA\"), (\"SMA\", \"Healthy\")],\n",
    "    #                     test='t-test_ind', text_format='simple')"
   ]
  },
  {
   "cell_type": "markdown",
   "id": "13d720d8",
   "metadata": {},
   "source": [
    "## Correlation"
   ]
  },
  {
   "cell_type": "code",
   "execution_count": null,
   "id": "9116ba63",
   "metadata": {},
   "outputs": [],
   "source": [
    "import matplotlib.pyplot as plt\n",
    "\n",
    "import seaborn as sb\n",
    "\n",
    "sns.set(font_scale=1.2)\n",
    "plt.figure(figsize = (16,2))\n",
    "\n",
    "\n",
    "# feat_columns = ['PID','Age', 'Forearm_Length (cm)','Location of dynamometry from wrist (cm)', 'Avg. Dynamometry (N)',\n",
    "#         'Normalized_Dynamometry (N/cm)','Elbow Torque (Nm)','Normalized Elbow Torque (Nm/cm)',\n",
    "#        'CSA (cm^2)', 'Normalized_CSA (cm^2/cm)',\n",
    "#        'Avg_Long_Echo', 'Avg_Trans_Echo', 'Avg_Echo', 'Norm_Avg_Echo',\n",
    "#        'Est_Specific_Tension', 'Est_Specific_Tension_normCSA','Est_Specific_Tension', 'Est_Specific_Tension_normCSA',\n",
    "#        'Muscle_score1', 'Muscle Score2', 'Muscle_score3', 'Muscle_score4',\n",
    "#        'Brooke','hpc1', 'hpc2', 'hpc3', 'vpc1', 'vpc2',\n",
    "#        'vpc3']\n",
    "#\n",
    "\n",
    "feat_columns = ['PID','Age','CSA (cm^2)','Normalized Elbow Torque (Nm/cm)','Avg_Echo','Brooke',\n",
    "                'vpc1','vpc2','vpc3']\n",
    "\n",
    "# df = df_pca_analyze.groupby(['PID']).agg({'Age':'mean',\n",
    "#                                     'Forearm_Length (cm)':'mean',\n",
    "#                                     'CSA (cm^2)':'mean',\n",
    "#                                     'Avg_Echo':'mean',\n",
    "#                                     'Normalized Elbow Torque (Nm/cm)':'mean',\n",
    "#                                     'vpc1':'mean',\n",
    "#                                     'vpc2':'mean',\n",
    "#                                     'vpc3':'mean',\n",
    "#                                     'Brooke':'mean',\n",
    "#                                     'Cohort':'first',\n",
    "#                                     'PID':'first'})\n",
    "\n",
    "df = df_long\n",
    "\n",
    "clist = ['DMD','SMA','Healthy']\n",
    "corrs = []\n",
    "\n",
    "for c in clist:\n",
    "\n",
    "    df_b = df[df['Cohort'] == c]\n",
    "    #print(df_b.shape)\n",
    "    corr = df_b[feat_columns].corr().loc['vpc1'].iloc[1:-3]\n",
    "\n",
    "    #p_values = corr_sig1(df)              \n",
    "    #mask = np.invert(np.tril(p_values < 1))\n",
    "    #selected_mask = mask[8:-1,:-7]\n",
    "\n",
    "    corrs.append(corr)\n",
    "\n",
    "    #dataplot = sb.heatmap(corr3, cmap=sb.diverging_palette(0, 255, sep=77, as_cmap=True), #mask=selected_mask,\n",
    "                          #annot=True, vmin=-1, vmax=1, xticklabels = True)\n",
    "\n",
    "    #displaying heatmap\n",
    "    # plt.title('Correlations for Healthy')\n",
    "\n",
    "    # plt.savefig('corr_Healthy.png',bbox_inches='tight',dpi=300)\n",
    "    #plt.show()\n",
    "    \n",
    "    \n",
    "df_corr = pd.concat(corrs, axis=1)\n",
    "df_corr.columns = ['DMD','SMA','Healthy']\n",
    "\n",
    "df_corr = df_corr.transpose()\n",
    "df_corr = df_corr.rename(columns={'Normalized Elbow Torque (Nm/cm)': 'NET (Nm/cm)',\n",
    "                                  'Avg_Echo':'Avg_Echo (gsv)'})\n",
    "\n",
    "sns.set(font_scale=1.2)\n",
    "plt.figure(figsize = (17,3))\n",
    "\n",
    "dataplot = sb.heatmap(df_corr, cmap=sb.diverging_palette(0, 255, sep=77, as_cmap=True), \n",
    "                      annot=True, vmin=-1, vmax=1, xticklabels = True)\n",
    "\n",
    "  \n",
    "#displaying heatmap\n",
    "#plt.title('Cohort Correlations for VPC3 (Curl)')\n",
    "\n",
    "#plt.savefig('corr_vpc3curl_random.png',bbox_inches='tight',dpi=300)\n",
    "plt.show()"
   ]
  },
  {
   "cell_type": "code",
   "execution_count": null,
   "id": "da162ddd",
   "metadata": {},
   "outputs": [],
   "source": [
    "#df.to_csv('curl_vpc.csv',index=False)"
   ]
  },
  {
   "cell_type": "code",
   "execution_count": null,
   "id": "99f4c1b5",
   "metadata": {},
   "outputs": [],
   "source": [
    "df_pca_analyze[df_pca_analyze['PID'] == 11]\n",
    "#df_pca_analyze.sort_values(by=['vpc1'])[['PID','vpc1','visits','Visit #']]                                    "
   ]
  },
  {
   "cell_type": "code",
   "execution_count": null,
   "id": "83446708",
   "metadata": {},
   "outputs": [],
   "source": [
    "#df_b = df[(df['Cohort'] == 'DMD') | (df['Cohort'] == 'SMA')]\n",
    "#df_b"
   ]
  },
  {
   "cell_type": "code",
   "execution_count": null,
   "id": "63ca6ef5-6633-4fbc-844d-51b936091842",
   "metadata": {},
   "outputs": [],
   "source": [
    "# ft = ['vpc1','Forearm_Length (cm)']\n",
    "# df_b[ft].corr()"
   ]
  },
  {
   "cell_type": "code",
   "execution_count": null,
   "id": "d5217366-7cbe-4d0e-9423-94ec5064f97c",
   "metadata": {},
   "outputs": [],
   "source": [
    "# import matplotlib.pyplot as plt\n",
    "# import seaborn as sns\n",
    "# import numpy as np\n",
    "# from scipy import stats\n",
    "\n",
    "# # Sample data creation\n",
    "\n",
    "# x = df_b['vpc1'].values\n",
    "# y = df_b['Forearm_Length (cm)'].values\n",
    "\n",
    "# # Calculating the correlation coefficient\n",
    "# #correlation_coefficient, _ = stats.pearsonr(x, y)\n",
    "# correlation_coefficient = 0.61\n",
    "\n",
    "# # Scatterplot\n",
    "# plt.figure(figsize=(10, 6))\n",
    "# sns.scatterplot(x=x, y=y)  # Adjusted to use keyword arguments\n",
    "\n",
    "# # Adding the correlation line\n",
    "# sns.regplot(x=x, y=y, scatter=False, color=\"green\")\n",
    "\n",
    "# # Annotating the plot with the correlation coefficient\n",
    "# plt.text(max(x)*0.55, max(y)*0.5, f'Correlation: {correlation_coefficient:.2f}', fontsize=12)\n",
    "\n",
    "# plt.xlabel('Wearable Measures')\n",
    "# plt.ylabel('Clinical Measures')\n",
    "# plt.savefig('cca_corr.png', dpi=300)\n"
   ]
  },
  {
   "cell_type": "code",
   "execution_count": null,
   "id": "21c2fbbc-10d9-4af8-be20-30496f12a43a",
   "metadata": {},
   "outputs": [],
   "source": []
  }
 ],
 "metadata": {
  "kernelspec": {
   "display_name": "Python 3 (ipykernel)",
   "language": "python",
   "name": "python3"
  },
  "language_info": {
   "codemirror_mode": {
    "name": "ipython",
    "version": 3
   },
   "file_extension": ".py",
   "mimetype": "text/x-python",
   "name": "python",
   "nbconvert_exporter": "python",
   "pygments_lexer": "ipython3",
   "version": "3.11.7"
  }
 },
 "nbformat": 4,
 "nbformat_minor": 5
}
